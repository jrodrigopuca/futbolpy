{
 "cells": [
  {
   "cell_type": "code",
   "execution_count": 1,
   "metadata": {},
   "outputs": [],
   "source": [
    "import cv2\n",
    "import numpy as np \n",
    "import matplotlib.pyplot as plt\n",
    "import math"
   ]
  },
  {
   "cell_type": "code",
   "execution_count": 44,
   "metadata": {},
   "outputs": [],
   "source": [
    "# video para leer\n",
    "video= cv2.VideoCapture('360.mp4')\n",
    "fps=video.get(cv2.CAP_PROP_FPS) \n",
    "size = (int(video.get(cv2.CAP_PROP_FRAME_WIDTH)), int(video.get(cv2.CAP_PROP_FRAME_HEIGHT))) \n",
    "\n",
    "i=0\n",
    "success, frame = video.read()\n",
    "hsv = cv2.cvtColor(frame, cv2.COLOR_BGR2HSV)\n",
    "h = hsv[:,:,0] #h,s,v = cv2.split(hsv); \n",
    "\n",
    "# siguientes frames\n",
    "while success:\n",
    "    i+=1\n",
    "    nombre='img/'+str(i)+'.jpg'\n",
    "    # HSV\n",
    "    hsv = cv2.cvtColor(frame, cv2.COLOR_BGR2HSV)    \n",
    "    h = hsv[:,:,0]\n",
    "    cv2.imwrite(nombre, h)  \n",
    "      \n",
    "    success, frame = video.read()\n",
    "    "
   ]
  },
  {
   "cell_type": "code",
   "execution_count": null,
   "metadata": {},
   "outputs": [],
   "source": []
  }
 ],
 "metadata": {
  "kernelspec": {
   "display_name": "Python 3",
   "language": "python",
   "name": "python3"
  },
  "language_info": {
   "codemirror_mode": {
    "name": "ipython",
    "version": 3
   },
   "file_extension": ".py",
   "mimetype": "text/x-python",
   "name": "python",
   "nbconvert_exporter": "python",
   "pygments_lexer": "ipython3",
   "version": "3.6.1"
  }
 },
 "nbformat": 4,
 "nbformat_minor": 2
}
