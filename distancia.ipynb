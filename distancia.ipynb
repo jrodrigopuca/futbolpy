{
 "cells": [
  {
   "cell_type": "code",
   "execution_count": 14,
   "metadata": {},
   "outputs": [],
   "source": [
    "import cv2\n",
    "import numpy as np \n",
    "import matplotlib.pyplot as plt\n",
    "import math"
   ]
  },
  {
   "cell_type": "code",
   "execution_count": 118,
   "metadata": {},
   "outputs": [],
   "source": [
    "def distancia (a,b,n=1): #forma que nos pedian realizar\n",
    "    sumatoria=np.sum(np.sqrt(a*b))\n",
    "    medio= 1/np.sqrt(np.average(a) * np.average(b)*n*n) \n",
    "    return math.sqrt((1-(medio*sumatoria)))"
   ]
  },
  {
   "cell_type": "code",
   "execution_count": 73,
   "metadata": {},
   "outputs": [],
   "source": [
    "def distanciaBat(a,b,n=1): #la forma simple\n",
    "    sumatoria=np.sum(np.sqrt(a*b)) #coeficiente de Bata\n",
    "    return np.sqrt(n-sumatoria)    #0 si es igual"
   ]
  },
  {
   "cell_type": "code",
   "execution_count": 130,
   "metadata": {
    "scrolled": true
   },
   "outputs": [
    {
     "name": "stdout",
     "output_type": "stream",
     "text": [
      "hist1: [0.  0.6 0.2 0.1 0.1]\n",
      "hist2: [0.  0.6 0.2 0.1 0.1]\n",
      "forma compleja: 0.0\n",
      "forma simple:  0.0\n",
      "distancia del texto 0.0\n"
     ]
    },
    {
     "data": {
      "image/png": "[encoded data removed]",
      "text/plain": [
       "<Figure size 432x288 with 2 Axes>"
      ]
     },
     "metadata": {},
     "output_type": "display_data"
    }
   ],
   "source": [
    "mbins=np.arange(0,6) #uno más que el máx valor\n",
    "\n",
    "h1=np.array([1,1,1,2,3,1,5,2,1,1],dtype=np.uint8) #canal h de img1\n",
    "h2=np.array([1,1,1,2,3,1,5,2,1,1],dtype=np.uint8) #canal h de img2\n",
    "\n",
    "plt.subplot(121)\n",
    "hist1, bins, patches= plt.hist(h1, mbins, width=0.5,facecolor='blue', density=True) #density=True es para normalizar\n",
    "print(\"hist1:\", hist1)\n",
    "\n",
    "plt.subplot(122)\n",
    "hist2, bins, patches= plt.hist(h2, mbins, width=0.5,facecolor='green',density=True)\n",
    "print(\"hist2:\", hist2)\n",
    "\n",
    "b = distancia(hist1,hist2,len(mbins)-1)\n",
    "\n",
    "print(\"forma compleja:\",b)\n",
    "print(\"forma simple: \",distanciaBat(hist1,hist2))\n",
    "\n",
    "print(\"distancia del texto\",-np.log(b*b) if b!=0.0 else 0.0)"
   ]
  },
  {
   "cell_type": "code",
   "execution_count": null,
   "metadata": {},
   "outputs": [],
   "source": []
  }
 ],
 "metadata": {
  "kernelspec": {
   "display_name": "Python 3",
   "language": "python",
   "name": "python3"
  },
  "language_info": {
   "codemirror_mode": {
    "name": "ipython",
    "version": 3
   },
   "file_extension": ".py",
   "mimetype": "text/x-python",
   "name": "python",
   "nbconvert_exporter": "python",
   "pygments_lexer": "ipython3",
   "version": "3.6.1"
  }
 },
 "nbformat": 4,
 "nbformat_minor": 2
}
