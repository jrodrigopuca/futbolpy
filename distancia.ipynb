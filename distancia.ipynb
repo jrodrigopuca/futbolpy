{
 "cells": [
  {
   "cell_type": "code",
   "execution_count": 3,
   "metadata": {},
   "outputs": [],
   "source": [
    "import cv2\n",
    "import numpy as np \n",
    "import matplotlib.pyplot as plt\n",
    "import math\n",
    "import matplotlib.pyplot as plt"
   ]
  },
  {
   "cell_type": "code",
   "execution_count": 262,
   "metadata": {},
   "outputs": [],
   "source": [
    "def distancia (a,b,N): #forma que nos pedian realizar\n",
    "    sumatoria=np.sum(a*b)\n",
    "    print(a*b)\n",
    "    print(sumatoria)\n",
    "    medio= 1/np.sqrt(np.average(a) * np.average(b)) \n",
    "    print(np.average(a),np.average(b))\n",
    "    print(medio)\n",
    "    print(1-(medio*sumatoria))\n",
    "    print(math.sqrt(math.fabs(1-(medio*sumatoria))))\n",
    "    return math.sqrt(math.fabs(1-(medio*sumatoria)))"
   ]
  },
  {
   "cell_type": "code",
   "execution_count": 276,
   "metadata": {},
   "outputs": [],
   "source": [
    "def distanciaBat(a,b,n=1): #la forma simple\n",
    "    sumatoria=np.sum(np.sqrt(a*b)) #coeficiente de Bata\n",
    "    return np.sqrt(n-sumatoria)    #0 si es igual"
   ]
  },
  {
   "cell_type": "code",
   "execution_count": 277,
   "metadata": {
    "scrolled": true
   },
   "outputs": [
    {
     "name": "stdout",
     "output_type": "stream",
     "text": [
      "[0.2 0.  0.2 0.2 0.4]\n",
      "[0.2 0.  0.2 0.2 0.4]\n",
      "0.0\n"
     ]
    },
    {
     "data": {
      "image/png": "[encoded data removed]",
      "text/plain": [
       "<Figure size 432x288 with 2 Axes>"
      ]
     },
     "metadata": {},
     "output_type": "display_data"
    }
   ],
   "source": [
    "mbins=np.arange(0,6) #uno más que el máx valor\n",
    "\n",
    "h1=np.array([2,5,5,3,0],dtype=np.uint8) #canal h de img1\n",
    "h2=np.array([2,5,5,3,0],dtype=np.uint8) #canal h de img2\n",
    "\n",
    "plt.subplot(121)\n",
    "hist1, bins, patches= plt.hist(h1, mbins, facecolor='blue', density=True) #density=True es para normalizar\n",
    "print(hist1)\n",
    "\n",
    "plt.subplot(122)\n",
    "hist2, bins, patches= plt.hist(h2, mbins, facecolor='green',density=True)\n",
    "print(hist2)\n",
    "\n",
    "print(distanciaBat(hist1,hist2))"
   ]
  },
  {
   "cell_type": "code",
   "execution_count": null,
   "metadata": {},
   "outputs": [],
   "source": []
  }
 ],
 "metadata": {
  "kernelspec": {
   "display_name": "Python 3",
   "language": "python",
   "name": "python3"
  },
  "language_info": {
   "codemirror_mode": {
    "name": "ipython",
    "version": 3
   },
   "file_extension": ".py",
   "mimetype": "text/x-python",
   "name": "python",
   "nbconvert_exporter": "python",
   "pygments_lexer": "ipython3",
   "version": "3.6.1"
  }
 },
 "nbformat": 4,
 "nbformat_minor": 2
}
