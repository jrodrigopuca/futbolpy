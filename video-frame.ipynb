{
 "cells": [
  {
   "cell_type": "code",
   "execution_count": 2,
   "metadata": {},
   "outputs": [],
   "source": [
    "import cv2\n",
    "import numpy as np \n",
    "import matplotlib.pyplot as plt\n",
    "import math"
   ]
  },
  {
   "cell_type": "code",
   "execution_count": 7,
   "metadata": {},
   "outputs": [
    {
     "data": {
      "text/plain": [
       "[<matplotlib.lines.Line2D at 0xe3faa90>]"
      ]
     },
     "execution_count": 7,
     "metadata": {},
     "output_type": "execute_result"
    },
    {
     "data": {
      "image/png": "[encoded data removed]",
      "text/plain": [
       "<Figure size 432x288 with 1 Axes>"
      ]
     },
     "metadata": {},
     "output_type": "display_data"
    }
   ],
   "source": [
    "# uso: para obtener los datos de promedio/varianza de los canales H/V\n",
    "\n",
    "# video para leer\n",
    "video= cv2.VideoCapture('360.mp4')\n",
    "fps=video.get(cv2.CAP_PROP_FPS) \n",
    "size = (int(video.get(cv2.CAP_PROP_FRAME_WIDTH)), int(video.get(cv2.CAP_PROP_FRAME_HEIGHT))) \n",
    "\n",
    "i=0\n",
    "valores=[]\n",
    "success, frame = video.read()\n",
    "hsv = cv2.cvtColor(frame, cv2.COLOR_BGR2HSV)\n",
    "#h = hsv[:,:,0] #\n",
    "h,s,v = cv2.split(hsv); \n",
    "\n",
    "# siguientes frames\n",
    "while success:\n",
    "    i+=1\n",
    "    nombre='img-diego/'+str(i)+'.jpg'\n",
    "    # HSV\n",
    "    hsv = cv2.cvtColor(frame, cv2.COLOR_BGR2HSV)    \n",
    "    #h = hsv[:,:,0]\n",
    "    h,s,v = cv2.split(hsv); \n",
    "    cv2.imwrite(nombre, frame)  \n",
    "    valor=np.average(h)\n",
    "    valores.append(valor)\n",
    "    success, frame = video.read()\n",
    "plt.plot(valores)\n",
    "    \n"
   ]
  },
  {
   "cell_type": "code",
   "execution_count": null,
   "metadata": {},
   "outputs": [],
   "source": []
  }
 ],
 "metadata": {
  "kernelspec": {
   "display_name": "Python 3",
   "language": "python",
   "name": "python3"
  },
  "language_info": {
   "codemirror_mode": {
    "name": "ipython",
    "version": 3
   },
   "file_extension": ".py",
   "mimetype": "text/x-python",
   "name": "python",
   "nbconvert_exporter": "python",
   "pygments_lexer": "ipython3",
   "version": "3.6.1"
  }
 },
 "nbformat": 4,
 "nbformat_minor": 2
}
