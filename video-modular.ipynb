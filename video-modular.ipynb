{
 "cells": [
  {
   "cell_type": "code",
   "execution_count": 114,
   "metadata": {},
   "outputs": [],
   "source": [
    "import cv2, math, sys, getopt, os\n",
    "import numpy as np \n",
    "import matplotlib.pyplot as plt"
   ]
  },
  {
   "cell_type": "code",
   "execution_count": 115,
   "metadata": {},
   "outputs": [],
   "source": [
    "def distancia (a,b,n=1): \n",
    "    sumatoria=np.sum(np.sqrt(a*b))\n",
    "    medio= 1/np.sqrt(np.average(a) * np.average(b)*n*n) \n",
    "    return math.sqrt((1-(medio*sumatoria)))"
   ]
  },
  {
   "cell_type": "code",
   "execution_count": 116,
   "metadata": {},
   "outputs": [],
   "source": [
    "def capturarFrames(filename,guardar):\n",
    "    if guardar:\n",
    "        path=os.path.dirname(os.path.abspath(filename))\n",
    "        os.mkdir(path+'/img-'+filename)\n",
    "    video= cv2.VideoCapture(filename)\n",
    "    i=0\n",
    "    success, frame = video.read()\n",
    "    while success: \n",
    "        i+=1\n",
    "        if guardar:\n",
    "            nombre = 'img-'+filename+'/'+str(i)+'.jpg'\n",
    "            cv2.imwrite(nombre, frame) \n",
    "        success, frame = video.read()\n",
    "    return i"
   ]
  },
  {
   "cell_type": "code",
   "execution_count": 117,
   "metadata": {},
   "outputs": [],
   "source": [
    "def obtenerDistancias(file, comparaciones):\n",
    "    video= cv2.VideoCapture(file)\n",
    "    valores = []\n",
    "    hbins=np.arange(0,179) # rango para canal H\n",
    "    # Frame 1\n",
    "    i=0\n",
    "    success, frame = video.read()\n",
    "    hsv = cv2.cvtColor(frame, cv2.COLOR_BGR2HSV)\n",
    "    h1,s1,v1 = cv2.split(hsv); \n",
    "    # HIST1\n",
    "    hist1, bins = np.histogram(h1,bins=hbins,density=True)\n",
    "\n",
    "    while success:\n",
    "        i+=1\n",
    "        success, frame2 = video.read()\n",
    "        if i <= comparaciones:\n",
    "            hsv2= cv2.cvtColor(frame2, cv2.COLOR_BGR2HSV)\n",
    "            h2,s2,v2 = cv2.split(hsv2) \n",
    "            # HISTN\n",
    "            hist2, bins = np.histogram(h2,bins=hbins,density=True)\n",
    "            valor=distancia(hist1,hist2, len(hbins)-1)\n",
    "            valores.append(valor)\n",
    "            hist1=hist2\n",
    "    return(valores)"
   ]
  },
  {
   "cell_type": "code",
   "execution_count": 118,
   "metadata": {},
   "outputs": [],
   "source": [
    "def exportData(file, myarray):\n",
    "    myfile=file+\".txt\"\n",
    "    file = open(myfile,\"w\")\n",
    "    for el in myarray:\n",
    "          file.write(str(el)+\"\\n\")\n",
    "    file.close()"
   ]
  },
  {
   "cell_type": "code",
   "execution_count": 122,
   "metadata": {},
   "outputs": [],
   "source": [
    "def criterio(dArray,n,precision=1):\n",
    "    qua= np.power(dArray - np.average(dArray),2)\n",
    "    parte1=np.sum(dArray)/n\n",
    "    parte2=np.sqrt(np.sum(qua)/(n-1))\n",
    "    return 2* (parte1 + parte2)*precision   "
   ]
  },
  {
   "cell_type": "code",
   "execution_count": 142,
   "metadata": {},
   "outputs": [],
   "source": [
    "def reconstruir(filename, inicio, fin):\n",
    "    video= cv2.VideoCapture(filename)\n",
    "    \n",
    "    fps=video.get(cv2.CAP_PROP_FPS)\n",
    "    size = (int(video.get(cv2.CAP_PROP_FRAME_WIDTH)),\n",
    "        int(video.get(cv2.CAP_PROP_FRAME_HEIGHT)))\n",
    "    codec =cv2.VideoWriter_fourcc(*'XVID')\n",
    "\n",
    "    nuevoNombre,extension= filename.split(\".\")\n",
    "    nuevoNombre+=\"-\"+str(fin)+'.avi'\n",
    "    nuevoVideo= cv2.VideoWriter(nuevoNombre,codec,fps,size)   \n",
    "    i=0\n",
    "    success, frame = video.read()\n",
    "    while success:\n",
    "        if i>=inicio and i<=fin:\n",
    "            nuevoVideo.write(frame)            \n",
    "        i+=1\n",
    "        success, frame = video.read()\n",
    "        "
   ]
  },
  {
   "cell_type": "code",
   "execution_count": 143,
   "metadata": {},
   "outputs": [
    {
     "name": "stdout",
     "output_type": "stream",
     "text": [
      "criterio: 0.07385399045684472\n"
     ]
    },
    {
     "data": {
      "image/png": "[encoded data removed]",
      "text/plain": [
       "<Figure size 432x288 with 1 Axes>"
      ]
     },
     "metadata": {},
     "output_type": "display_data"
    },
    {
     "name": "stdout",
     "output_type": "stream",
     "text": [
      "transición:  60 0.07419038254152195\n",
      "transición:  120 0.10832220838731185\n"
     ]
    }
   ],
   "source": [
    "# Info de video\n",
    "file='360.mp4'\n",
    "cantFrames=capturarFrames(file,False)\n",
    "arrayDistancia=obtenerDistancias(file, cantFrames-1)\n",
    "#exportData(file, arrayDistancia)\n",
    "valorCriterio=criterio(arrayDistancia,178,0.95)\n",
    "\n",
    "print(\"criterio:\", valorCriterio)\n",
    "\n",
    "filtro = (np.where(arrayDistancia>valorCriterio,arrayDistancia,0))\n",
    "\n",
    "plt.plot(filtro)\n",
    "plt.plot(arrayDistancia)\n",
    "plt.show()\n",
    "\n",
    "#los valores que producen cortes\n",
    "indice=0\n",
    "anterior=0\n",
    "for el in filtro:\n",
    "    indice+=1\n",
    "    if el>0:\n",
    "        print(\"transición: \",indice,el)\n",
    "        reconstruir(file, anterior, indice)\n",
    "        anterior=indice\n",
    "    if indice==cantFrames-1:\n",
    "        reconstruir(file, anterior, cantFrames)"
   ]
  },
  {
   "cell_type": "code",
   "execution_count": null,
   "metadata": {},
   "outputs": [],
   "source": []
  }
 ],
 "metadata": {
  "kernelspec": {
   "display_name": "Python 3",
   "language": "python",
   "name": "python3"
  },
  "language_info": {
   "codemirror_mode": {
    "name": "ipython",
    "version": 3
   },
   "file_extension": ".py",
   "mimetype": "text/x-python",
   "name": "python",
   "nbconvert_exporter": "python",
   "pygments_lexer": "ipython3",
   "version": "3.6.1"
  }
 },
 "nbformat": 4,
 "nbformat_minor": 2
}
