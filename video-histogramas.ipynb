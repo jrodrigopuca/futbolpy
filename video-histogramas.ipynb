{
 "cells": [
  {
   "cell_type": "code",
   "execution_count": 2,
   "metadata": {},
   "outputs": [],
   "source": [
    "import cv2\n",
    "import numpy as np \n",
    "import matplotlib.pyplot as plt\n",
    "import math\n",
    "import matplotlib.pyplot as plt"
   ]
  },
  {
   "cell_type": "code",
   "execution_count": 135,
   "metadata": {},
   "outputs": [
    {
     "name": "stdout",
     "output_type": "stream",
     "text": [
      "0.9403671911549819\n",
      "0.9606080089780338\n",
      "-0.10167370341704941\n"
     ]
    },
    {
     "data": {
      "image/png": "[encoded data removed]",
      "text/plain": [
       "<Figure size 432x288 with 2 Axes>"
      ]
     },
     "metadata": {},
     "output_type": "display_data"
    }
   ],
   "source": [
    "def distancia (a,b,N):\n",
    "    sumatoria=sum(np.sqrt(a*b))\n",
    "    medio= 1/np.sqrt(np.average(a) * np.average(b) * N*N)   \n",
    "    return np.sqrt(1-medio*sumatoria)\n",
    "    \n",
    "# video para leer\n",
    "video= cv2.VideoCapture('360.mp4')\n",
    "fps=video.get(cv2.CAP_PROP_FPS) \n",
    "size = (int(video.get(cv2.CAP_PROP_FRAME_WIDTH)), int(video.get(cv2.CAP_PROP_FRAME_HEIGHT))) \n",
    "\n",
    "mbins=300\n",
    "\n",
    "# Frame 1\n",
    "i=1\n",
    "success, frame = video.read()\n",
    "\n",
    "hsv = cv2.cvtColor(frame, cv2.COLOR_BGR2HSV)\n",
    "h,s,v = cv2.split(hsv); #h = hsv[:,:,0] \n",
    "\n",
    "hist, bins = np.histogram(h,bins=mbins)\n",
    "plt.subplot(121)\n",
    "plt.plot(bins[:-1],hist,c='blue')\n",
    "histV, bins = np.histogram(v,bins=mbins)\n",
    "\n",
    "# Frame 2\n",
    "i=101\n",
    "success, frame2 = video.read()\n",
    "success, frame2 = video.read()\n",
    "success, frame2 = video.read()\n",
    "success, frame2 = video.read()\n",
    "success, frame2 = video.read()\n",
    "\n",
    "\n",
    "hsv2 = cv2.cvtColor(frame2, cv2.COLOR_BGR2HSV)\n",
    "h2,s2,v2 = cv2.split(hsv2); #h = hsv[:,:,0] \n",
    "\n",
    "hist2, bins = np.histogram(h2,bins=mbins)\n",
    "plt.subplot(122)\n",
    "plt.plot(bins[:-1],hist2,c='red')\n",
    "histV2, bins = np.histogram(v2,bins=mbins)\n",
    "\n",
    "distBH=distancia(hist.astype(np.uint8),hist2.astype(np.uint8),mbins)\n",
    "print(distBH)\n",
    "distBV=distancia(histV.astype(np.uint8),histV2.astype(np.uint8),mbins)\n",
    "print(distBV)\n",
    "\n",
    "print(np.log(distBH*distBV))"
   ]
  },
  {
   "cell_type": "code",
   "execution_count": null,
   "metadata": {},
   "outputs": [],
   "source": []
  }
 ],
 "metadata": {
  "kernelspec": {
   "display_name": "Python 3",
   "language": "python",
   "name": "python3"
  },
  "language_info": {
   "codemirror_mode": {
    "name": "ipython",
    "version": 3
   },
   "file_extension": ".py",
   "mimetype": "text/x-python",
   "name": "python",
   "nbconvert_exporter": "python",
   "pygments_lexer": "ipython3",
   "version": "3.6.1"
  }
 },
 "nbformat": 4,
 "nbformat_minor": 2
}
