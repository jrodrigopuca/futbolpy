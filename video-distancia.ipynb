{
 "cells": [
  {
   "cell_type": "code",
   "execution_count": 18,
   "metadata": {},
   "outputs": [],
   "source": [
    "import cv2\n",
    "import numpy as np \n",
    "import matplotlib.pyplot as plt\n",
    "import math"
   ]
  },
  {
   "cell_type": "code",
   "execution_count": 19,
   "metadata": {},
   "outputs": [],
   "source": [
    "def distanciaBat(a,b,n=1): #la forma simple\n",
    "    sumatoria=np.sum(np.sqrt(a*b)) #coeficiente de Bata\n",
    "    return np.sqrt(n-sumatoria)    #0 si es igual"
   ]
  },
  {
   "cell_type": "code",
   "execution_count": 55,
   "metadata": {
    "scrolled": true
   },
   "outputs": [
    {
     "data": {
      "text/plain": [
       "Text(0.5,1,'frame #100')"
      ]
     },
     "execution_count": 55,
     "metadata": {},
     "output_type": "execute_result"
    },
    {
     "data": {
      "image/png": "[encoded data removed]",
      "text/plain": [
       "<Figure size 432x288 with 2 Axes>"
      ]
     },
     "metadata": {},
     "output_type": "display_data"
    }
   ],
   "source": [
    "# video para leer\n",
    "video= cv2.VideoCapture('360.mp4')\n",
    "fps=video.get(cv2.CAP_PROP_FPS) \n",
    "size = (int(video.get(cv2.CAP_PROP_FRAME_WIDTH)), int(video.get(cv2.CAP_PROP_FRAME_HEIGHT))) \n",
    "\n",
    "mbins=np.arange(0,360)\n",
    "\n",
    "# Frame 1\n",
    "i=1\n",
    "success, frame = video.read()\n",
    "\n",
    "hsv = cv2.cvtColor(frame, cv2.COLOR_BGR2HSV)\n",
    "h1,s1,v1 = cv2.split(hsv); #h = hsv[:,:,0] \n",
    "\n",
    "#primera grafica\n",
    "#plt.subplot(223)\n",
    "#hist1, bins, patches= plt.hist(h1, bins=mbins, facecolor='blue') \n",
    "\n",
    "#HIST1\n",
    "hist1, bins = np.histogram(h1,bins=mbins,density=True)\n",
    "plt.subplot(221)\n",
    "plt.plot(hist1)\n",
    "plt.title(\"frame #1\")\n",
    "\n",
    "success, frame2 = video.read()\n",
    "success, frame2 = video.read()\n",
    "success, frame2 = video.read()\n",
    "success, frame2 = video.read()\n",
    "success, frame2 = video.read()\n",
    "success, frame2 = video.read()\n",
    "success, frame2 = video.read()\n",
    "success, frame2 = video.read()\n",
    "success, frame2 = video.read()\n",
    "success, frame2 = video.read()\n",
    "success, frame2 = video.read()\n",
    "success, frame2 = video.read()\n",
    "success, frame2 = video.read()\n",
    "success, frame2 = video.read()\n",
    "success, frame2 = video.read()\n",
    "success, frame2 = video.read()\n",
    "success, frame2 = video.read()\n",
    "success, frame2 = video.read()\n",
    "success, frame2 = video.read()\n",
    "success, frame2 = video.read()\n",
    "success, frame2 = video.read()\n",
    "success, frame2 = video.read()\n",
    "success, frame2 = video.read()\n",
    "success, frame2 = video.read()\n",
    "success, frame2 = video.read()\n",
    "success, frame2 = video.read()\n",
    "success, frame2 = video.read()\n",
    "success, frame2 = video.read()\n",
    "success, frame2 = video.read()\n",
    "success, frame2 = video.read()\n",
    "success, frame2 = video.read()\n",
    "success, frame2 = video.read()\n",
    "success, frame2 = video.read()\n",
    "success, frame2 = video.read()\n",
    "success, frame2 = video.read()\n",
    "success, frame2 = video.read()\n",
    "success, frame2 = video.read()\n",
    "success, frame2 = video.read()\n",
    "success, frame2 = video.read()\n",
    "success, frame2 = video.read()\n",
    "success, frame2 = video.read()\n",
    "success, frame2 = video.read()\n",
    "success, frame2 = video.read()\n",
    "success, frame2 = video.read()\n",
    "success, frame2 = video.read()\n",
    "success, frame2 = video.read()\n",
    "success, frame2 = video.read()\n",
    "success, frame2 = video.read()\n",
    "success, frame2 = video.read()\n",
    "success, frame2 = video.read()\n",
    "success, frame2 = video.read()\n",
    "success, frame2 = video.read()\n",
    "success, frame2 = video.read()\n",
    "success, frame2 = video.read()\n",
    "success, frame2 = video.read()\n",
    "success, frame2 = video.read()\n",
    "success, frame2 = video.read()\n",
    "success, frame2 = video.read()\n",
    "success, frame2 = video.read()\n",
    "success, frame2 = video.read()\n",
    "success, frame2 = video.read()\n",
    "success, frame2 = video.read()\n",
    "success, frame2 = video.read()\n",
    "success, frame2 = video.read()\n",
    "success, frame2 = video.read()\n",
    "success, frame2 = video.read()\n",
    "success, frame2 = video.read()\n",
    "success, frame2 = video.read()\n",
    "success, frame2 = video.read()\n",
    "success, frame2 = video.read()\n",
    "success, frame2 = video.read()\n",
    "success, frame2 = video.read()\n",
    "success, frame2 = video.read()\n",
    "success, frame2 = video.read()\n",
    "success, frame2 = video.read()\n",
    "success, frame2 = video.read()\n",
    "success, frame2 = video.read()\n",
    "success, frame2 = video.read()\n",
    "success, frame2 = video.read()\n",
    "success, frame2 = video.read()\n",
    "success, frame2 = video.read()\n",
    "success, frame2 = video.read()\n",
    "success, frame2 = video.read()\n",
    "success, frame2 = video.read()\n",
    "success, frame2 = video.read()\n",
    "success, frame2 = video.read()\n",
    "success, frame2 = video.read()\n",
    "success, frame2 = video.read()\n",
    "success, frame2 = video.read()\n",
    "success, frame2 = video.read()\n",
    "success, frame2 = video.read()\n",
    "success, frame2 = video.read()\n",
    "success, frame2 = video.read()\n",
    "success, frame2 = video.read()\n",
    "success, frame2 = video.read()\n",
    "success, frame2 = video.read()\n",
    "success, frame2 = video.read()\n",
    "success, frame2 = video.read()\n",
    "success, frame2 = video.read()\n",
    "\n",
    "hsv2= cv2.cvtColor(frame2, cv2.COLOR_BGR2HSV)\n",
    "h2,s2,v2 = cv2.split(hsv2) \n",
    "\n",
    "\n",
    "#grafica\n",
    "hist2, bins = np.histogram(h2,bins=mbins,density=True)\n",
    "plt.subplot(222)\n",
    "plt.plot(hist2)\n",
    "plt.title(\"frame #100\")"
   ]
  },
  {
   "cell_type": "code",
   "execution_count": 56,
   "metadata": {},
   "outputs": [
    {
     "name": "stdout",
     "output_type": "stream",
     "text": [
      "0.21852745091671047\n"
     ]
    }
   ],
   "source": [
    "#Calcular diferencia\n",
    "print(distanciaBat(hist1,hist2))"
   ]
  },
  {
   "cell_type": "code",
   "execution_count": null,
   "metadata": {},
   "outputs": [],
   "source": []
  }
 ],
 "metadata": {
  "kernelspec": {
   "display_name": "Python 3",
   "language": "python",
   "name": "python3"
  },
  "language_info": {
   "codemirror_mode": {
    "name": "ipython",
    "version": 3
   },
   "file_extension": ".py",
   "mimetype": "text/x-python",
   "name": "python",
   "nbconvert_exporter": "python",
   "pygments_lexer": "ipython3",
   "version": "3.6.1"
  }
 },
 "nbformat": 4,
 "nbformat_minor": 2
}
